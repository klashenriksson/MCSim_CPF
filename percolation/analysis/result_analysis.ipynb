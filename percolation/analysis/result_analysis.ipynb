{
 "cells": [
  {
   "cell_type": "code",
   "execution_count": 13,
   "metadata": {},
   "outputs": [],
   "source": [
    "import numpy as np\n",
    "import pandas as pd\n",
    "import matplotlib.pyplot as plt"
   ]
  },
  {
   "cell_type": "code",
   "execution_count": 16,
   "metadata": {},
   "outputs": [
    {
     "name": "stdout",
     "output_type": "stream",
     "text": [
      "      L      p  perc_prob  perc_prob_variance\n",
      "31   32  0.675     0.9934            0.000001\n",
      "1    32  0.650     0.9703            0.000001\n",
      "48   32  0.700     0.9995            0.000000\n",
      "49   32  0.600     0.7055            0.000010\n",
      "22   32  0.625     0.8858            0.000009\n",
      "35   32  0.550     0.2021            0.000012\n",
      "8    32  0.575     0.4291            0.000047\n",
      "41   32  0.525     0.0663            0.000012\n",
      "17   32  0.500     0.0165            0.000002\n",
      "26   64  0.610     0.8656            0.000011\n",
      "24   64  0.591     0.6056            0.000014\n",
      "20   64  0.570     0.2373            0.000028\n",
      "18   64  0.560     0.1230            0.000009\n",
      "16   64  0.600     0.7445            0.000040\n",
      "0    64  0.550     0.0553            0.000005\n",
      "13   64  0.593     0.6326            0.000012\n",
      "39   64  0.580     0.4038            0.000046\n",
      "42   64  0.592     0.6153            0.000052\n",
      "9    64  0.620     0.9425            0.000008\n",
      "5    64  0.595     0.6760            0.000024\n",
      "45   64  0.590     0.5883            0.000008\n",
      "3    64  0.630     0.9783            0.000001\n",
      "28   64  0.594     0.6540            0.000024\n",
      "37  128  0.593     0.6311            0.000021\n",
      "36  128  0.600     0.8145            0.000004\n",
      "43  128  0.630     0.9988            0.000000\n",
      "44  128  0.595     0.6975            0.000024\n",
      "33  128  0.560     0.0167            0.000001\n",
      "32  128  0.570     0.0826            0.000006\n",
      "38  128  0.620     0.9905            0.000001\n",
      "50  128  0.550     0.0032            0.000000\n",
      "29  128  0.610     0.9474            0.000006\n",
      "27  128  0.594     0.6733            0.000021\n",
      "2   128  0.590     0.5572            0.000021\n",
      "6   128  0.580     0.2621            0.000023\n",
      "7   128  0.592     0.6133            0.000023\n",
      "30  128  0.591     0.5816            0.000029\n",
      "47  256  0.580     0.1021            0.000013\n",
      "46  256  0.592     0.5905            0.000015\n",
      "4   256  0.620     0.9993            0.000000\n",
      "10  256  0.595     0.7468            0.000024\n",
      "40  256  0.590     0.4906            0.000008\n",
      "12  256  0.550     0.0000            0.000000\n",
      "14  256  0.591     0.5492            0.000025\n",
      "15  256  0.610     0.9935            0.000001\n",
      "19  256  0.570     0.0063            0.000001\n",
      "21  256  0.560     0.0001            0.000000\n",
      "34  256  0.594     0.6900            0.000017\n",
      "23  256  0.593     0.6588            0.000021\n",
      "11  256  0.630     1.0000            0.000000\n",
      "25  256  0.600     0.8984            0.000004\n"
     ]
    }
   ],
   "source": [
    "def read_summary(filename):\n",
    "    with open(filename, \"r\") as f:\n",
    "        d = {\"L\":[], \"p\":[], \"perc_prob\": [], \"perc_prob_variance\":[]}\n",
    "        lines = f.readlines()\n",
    "        for line in lines:\n",
    "            s = line.split()\n",
    "            values = s[1::2]\n",
    "            d[\"L\"].append(int(values[0]))\n",
    "            d[\"p\"].append(float(values[1]))\n",
    "            d[\"perc_prob\"].append(float(values[2]))\n",
    "            d[\"perc_prob_variance\"].append(float(values[3]))\n",
    "        df = pd.DataFrame.from_dict(d)\n",
    "        df = df.sort_values('L')\n",
    "        return df\n",
    "\n",
    "df_2d = read_summary(\"sum_2d/2d.txt\")\n",
    "print(df_2d.to_string())"
   ]
  },
  {
   "cell_type": "code",
   "execution_count": 21,
   "metadata": {},
   "outputs": [
    {
     "data": {
      "text/plain": [
       "<matplotlib.legend.Legend at 0x11b0cdc10>"
      ]
     },
     "execution_count": 21,
     "metadata": {},
     "output_type": "execute_result"
    },
    {
     "data": {
      "image/png": "[encoded data removed]",
      "text/plain": [
       "<Figure size 432x288 with 1 Axes>"
      ]
     },
     "metadata": {
      "needs_background": "light"
     },
     "output_type": "display_data"
    }
   ],
   "source": [
    "fig, ax = plt.subplots()\n",
    "df_L32 = df_2d[df_2d[\"L\"] == 32]\n",
    "df_L64 = df_2d[df_2d[\"L\"] == 64]\n",
    "df_L128 = df_2d[df_2d[\"L\"] == 128]\n",
    "df_L256 = df_2d[df_2d[\"L\"] == 256]\n",
    "\n",
    "dfs = [df_L32, df_L64, df_L128, df_L256]\n",
    "\n",
    "for i,df in enumerate(dfs):\n",
    "    df = df.sort_values(\"p\")\n",
    "    p = df[\"p\"]\n",
    "    P = df[\"perc_prob\"]\n",
    "\n",
    "    ax.plot(p, P, label=f\"L={32*(2*(i+1))}\")\n",
    "ax.legend()"
   ]
  }
 ],
 "metadata": {
  "interpreter": {
   "hash": "aee8b7b246df8f9039afb4144a1f6fd8d2ca17a180786b69acc140d282b71a49"
  },
  "kernelspec": {
   "display_name": "Python 3.9.6 64-bit",
   "language": "python",
   "name": "python3"
  },
  "language_info": {
   "codemirror_mode": {
    "name": "ipython",
    "version": 3
   },
   "file_extension": ".py",
   "mimetype": "text/x-python",
   "name": "python",
   "nbconvert_exporter": "python",
   "pygments_lexer": "ipython3",
   "version": "3.9.6"
  },
  "orig_nbformat": 4
 },
 "nbformat": 4,
 "nbformat_minor": 2
}
