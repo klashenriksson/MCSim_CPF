{
 "cells": [
  {
   "cell_type": "code",
   "execution_count": 8,
   "metadata": {},
   "outputs": [],
   "source": [
    "import matplotlib as mpl\n",
    "import matplotlib.pyplot as plt\n",
    "import pandas as pd\n",
    "import numpy as np\n",
    "import os"
   ]
  },
  {
   "cell_type": "markdown",
   "metadata": {},
   "source": [
    "Magnetization"
   ]
  },
  {
   "cell_type": "code",
   "execution_count": 10,
   "metadata": {},
   "outputs": [
    {
     "name": "stdout",
     "output_type": "stream",
     "text": [
      "|    |   L |   T |        m |   m_ebars |\n",
      "|---:|----:|----:|---------:|----------:|\n",
      "|  0 |  16 | 1   | 0.999303 |   0       |\n",
      "|  1 |  16 | 1.2 | 0.997082 |   0       |\n",
      "|  2 |  16 | 1.4 | 0.991425 |   0       |\n",
      "|  3 |  16 | 1.6 | 0.979464 |   0       |\n",
      "|  4 |  16 | 1.8 | 0.957266 |   0       |\n",
      "|  5 |  16 | 2   | 0.911373 |   0       |\n",
      "|  6 |  16 | 2.2 | 0.793094 |   1.2e-05 |\n",
      "|  7 |  16 | 2.4 | 0.512372 |   3e-05   |\n",
      "|  8 |  16 | 2.6 | 0.306983 |   3.6e-05 |\n"
     ]
    }
   ],
   "source": [
    "dfs = []\n",
    "for file in os.listdir(\"summary\"):\n",
    "    fullpath = os.path.join(\"summary\", file)\n",
    "    with open(fullpath, \"r\") as f:\n",
    "        lines = f.readlines()\n",
    "        if len(lines) == 0:\n",
    "            continue\n",
    "\n",
    "        data = lines[0].split(sep=\" \")\n",
    "        if len(data) % 2 != 0:\n",
    "            continue\n",
    "\n",
    "        columns = data[::2]\n",
    "        values = data[1::2]\n",
    "        data = {column: [float(value)] for column,value in zip(columns, values)}\n",
    "\n",
    "        for row in lines[1:]:\n",
    "            row = row.split(sep=\" \")\n",
    "            columns = row[::2]\n",
    "            values = row[1::2]\n",
    "            for column, value in zip(columns, values):\n",
    "                data[column].append(value)\n",
    "\n",
    "        dfs.append(pd.DataFrame.from_dict(data))\n",
    "\n",
    "print(dfs[0].to_markdown())"
   ]
  }
 ],
 "metadata": {
  "interpreter": {
   "hash": "b23f2899b9a644ee45af6cde4f4f659e2644b7071c20c031be41f3bd7025eb92"
  },
  "kernelspec": {
   "display_name": "Python 3.10.4 64-bit",
   "language": "python",
   "name": "python3"
  },
  "language_info": {
   "codemirror_mode": {
    "name": "ipython",
    "version": 3
   },
   "file_extension": ".py",
   "mimetype": "text/x-python",
   "name": "python",
   "nbconvert_exporter": "python",
   "pygments_lexer": "ipython3",
   "version": "3.10.4"
  },
  "orig_nbformat": 4
 },
 "nbformat": 4,
 "nbformat_minor": 2
}
